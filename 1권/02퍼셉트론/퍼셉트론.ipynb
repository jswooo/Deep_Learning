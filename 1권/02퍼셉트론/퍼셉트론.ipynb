{
 "cells": [
  {
   "cell_type": "markdown",
   "id": "5c0b699e",
   "metadata": {},
   "source": [
    "## 2.3 퍼셉트론 구현"
   ]
  },
  {
   "cell_type": "markdown",
   "id": "8b1223e1",
   "metadata": {},
   "source": [
    "###  2.3.1 기본 AND 구현"
   ]
  },
  {
   "cell_type": "code",
   "execution_count": 14,
   "id": "1ae81daa",
   "metadata": {},
   "outputs": [],
   "source": [
    "def AND_base(x1, x2):\n",
    "    w1, w2, theta = 0.5, 0.5, 0.7  # 가중치 2개와 임계값\n",
    "    tmp = x1*w1 + x2*w2\n",
    "    # 임계값보다 결과가 낮은 경우 0 출력\n",
    "    if tmp <= theta:\n",
    "        return 0\n",
    "    # 높은 경우 1 출력\n",
    "    elif tmp > theta:\n",
    "        return 1 "
   ]
  },
  {
   "cell_type": "code",
   "execution_count": 15,
   "id": "87cb456b",
   "metadata": {},
   "outputs": [
    {
     "name": "stdout",
     "output_type": "stream",
     "text": [
      "0\n",
      "0\n",
      "0\n",
      "1\n"
     ]
    }
   ],
   "source": [
    "print(AND_base(0,0)) # 0 출력\n",
    "print(AND_base(1,0)) # 0 출력\n",
    "print(AND_base(0,1)) # 0 출력\n",
    "print(AND_base(1,1)) # 1 출력"
   ]
  },
  {
   "cell_type": "markdown",
   "id": "ca60fa91",
   "metadata": {},
   "source": [
    "### 2.3.3 가중치와 편향으로 AND 구현"
   ]
  },
  {
   "cell_type": "markdown",
   "id": "c2885d3e",
   "metadata": {},
   "source": [
    "`편향`: 뉴런의 활성화 정도를 제어\n",
    "\n",
    "`가중치`: 각 뉴런 신호의 영향력 제어"
   ]
  },
  {
   "cell_type": "code",
   "execution_count": 16,
   "id": "1a621674",
   "metadata": {},
   "outputs": [],
   "source": [
    "import numpy as np"
   ]
  },
  {
   "cell_type": "code",
   "execution_count": 17,
   "id": "aac5b629",
   "metadata": {},
   "outputs": [],
   "source": [
    "def AND(x1, x2):\n",
    "    x = np.array([x1, x2])\n",
    "    w = np.array([0.5, 0.5])\n",
    "    b = - 0.7 # - theta를 bias로 치환\n",
    "    tmp = np.sum(x*w) + b\n",
    "    \n",
    "    if tmp <= 0:\n",
    "        return 0\n",
    "    elif tmp > 0:\n",
    "        return 1"
   ]
  },
  {
   "cell_type": "code",
   "execution_count": 18,
   "id": "f5d395d3",
   "metadata": {},
   "outputs": [
    {
     "name": "stdout",
     "output_type": "stream",
     "text": [
      "0\n",
      "0\n",
      "0\n",
      "1\n"
     ]
    }
   ],
   "source": [
    "print(AND(0,0)) # 0 출력\n",
    "print(AND(1,0)) # 0 출력\n",
    "print(AND(0,1)) # 0 출력\n",
    "print(AND(1,1)) # 1 출력"
   ]
  },
  {
   "cell_type": "markdown",
   "id": "2523f217",
   "metadata": {},
   "source": [
    "### NAND, OR 구현"
   ]
  },
  {
   "cell_type": "code",
   "execution_count": 19,
   "id": "a9756bea",
   "metadata": {},
   "outputs": [],
   "source": [
    "def NAND(x1, x2):\n",
    "    x = np.array([x1, x2])\n",
    "    w = np.array([-0.5, -0.5]) # AND와는 w, b가 다르게 수정\n",
    "    b = 0.7\n",
    "    tmp = np.sum(w*x) + b\n",
    "    \n",
    "    if tmp <= 0:\n",
    "        return 0 \n",
    "    elif tmp > 0:\n",
    "        return 1\n",
    "\n",
    "def OR(x1, x2):\n",
    "    x = np.array([x1, x2])\n",
    "    w = np.array([0.5, 0.5])\n",
    "    b = - 0.2\n",
    "    tmp = np.sum(w*x) + b\n",
    "    \n",
    "    if tmp <= 0:\n",
    "        return 0 \n",
    "    elif tmp > 0:\n",
    "        return 1"
   ]
  },
  {
   "cell_type": "code",
   "execution_count": 20,
   "id": "7e538129",
   "metadata": {},
   "outputs": [
    {
     "name": "stdout",
     "output_type": "stream",
     "text": [
      "1\n",
      "1\n",
      "1\n",
      "0\n",
      "============\n",
      "0\n",
      "1\n",
      "1\n",
      "1\n"
     ]
    }
   ],
   "source": [
    "print(NAND(0,0)) # 1 출력\n",
    "print(NAND(1,0)) # 1 출력\n",
    "print(NAND(0,1)) # 1 출력\n",
    "print(NAND(1,1)) # 0 출력\n",
    "print('============')\n",
    "print(OR(0,0)) # 0 출력\n",
    "print(OR(1,0)) # 1 출력\n",
    "print(OR(0,1)) # 1 출력\n",
    "print(OR(1,1)) # 1 출력"
   ]
  },
  {
   "cell_type": "markdown",
   "id": "bbb5cedf",
   "metadata": {},
   "source": [
    "## 2.4 퍼셉트론 한계"
   ]
  },
  {
   "cell_type": "markdown",
   "id": "78090a7a",
   "metadata": {},
   "source": [
    "### 2.4.1 XOR 구현"
   ]
  },
  {
   "cell_type": "code",
   "execution_count": 23,
   "id": "ec201e28",
   "metadata": {},
   "outputs": [],
   "source": [
    "def XOR(x1, x2):\n",
    "    # 다층 퍼셉트론으로 비선형 구조 구현\n",
    "    s1 = NAND(x1, x2)\n",
    "    s2 = OR(x1, x2)\n",
    "    y = AND(s1, s2)\n",
    "    \n",
    "    return y"
   ]
  },
  {
   "cell_type": "code",
   "execution_count": 22,
   "id": "be9f860b",
   "metadata": {},
   "outputs": [
    {
     "name": "stdout",
     "output_type": "stream",
     "text": [
      "0\n",
      "1\n",
      "1\n",
      "0\n"
     ]
    }
   ],
   "source": [
    "print(XOR(0,0)) # 0을 출력\n",
    "print(XOR(1,0)) # 1을 출력\n",
    "print(XOR(0,1)) # 1을 출력\n",
    "print(XOR(1,1)) # 0을 출력"
   ]
  }
 ],
 "metadata": {
  "kernelspec": {
   "display_name": "Python 3 (ipykernel)",
   "language": "python",
   "name": "python3"
  },
  "language_info": {
   "codemirror_mode": {
    "name": "ipython",
    "version": 3
   },
   "file_extension": ".py",
   "mimetype": "text/x-python",
   "name": "python",
   "nbconvert_exporter": "python",
   "pygments_lexer": "ipython3",
   "version": "3.9.13"
  }
 },
 "nbformat": 4,
 "nbformat_minor": 5
}
