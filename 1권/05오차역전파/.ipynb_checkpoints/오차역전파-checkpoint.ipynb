{
 "cells": [
  {
   "cell_type": "code",
   "execution_count": 26,
   "id": "f7b41c9b",
   "metadata": {},
   "outputs": [],
   "source": [
    "import numpy as np\n",
    "import sys, os\n",
    "sys.path.append(os.pardir)\n",
    "from common.layers import *\n",
    "from collections import OrderedDict\n",
    "from tqdm import tqdm"
   ]
  },
  {
   "cell_type": "markdown",
   "id": "2857eb23",
   "metadata": {},
   "source": [
    "수치 미분을 통한 기울기 계산은 계산이 오래걸림. 따라서 오차역전파를 통해 구현"
   ]
  },
  {
   "cell_type": "markdown",
   "id": "4a7cfffa",
   "metadata": {},
   "source": [
    "## 5.4 단순한 계층 구현"
   ]
  },
  {
   "cell_type": "markdown",
   "id": "d0ec19f7",
   "metadata": {},
   "source": [
    "### 곱셈 계층"
   ]
  },
  {
   "cell_type": "code",
   "execution_count": 1,
   "id": "dca68021",
   "metadata": {},
   "outputs": [],
   "source": [
    "class MulLayer:\n",
    "    def __init__(self):\n",
    "        self.x = None\n",
    "        self.y = None\n",
    "    \n",
    "    def forward(self, x, y):\n",
    "        self.x = x\n",
    "        self.y = y\n",
    "        out = x * y \n",
    "        \n",
    "        return out \n",
    "    \n",
    "    def backward(self, dout): # dout = 이전 층의 미분 값\n",
    "        dx = dout * self.y\n",
    "        dy = dout * self.x\n",
    "        \n",
    "        return dx, dy"
   ]
  },
  {
   "cell_type": "code",
   "execution_count": 2,
   "id": "49981b7f",
   "metadata": {},
   "outputs": [
    {
     "name": "stdout",
     "output_type": "stream",
     "text": [
      "price : 220.00000000000003\n",
      "2.2 110.00000000000001 200 1.1\n"
     ]
    }
   ],
   "source": [
    "# ex1\n",
    "\n",
    "apple = 100 \n",
    "apple_num = 2 \n",
    "tax = 1.1 \n",
    "\n",
    "mul_apple_layer = MulLayer()\n",
    "mul_tax_layer = MulLayer()\n",
    "\n",
    "# 순전파\n",
    "apple_price = mul_apple_layer.forward(apple, apple_num)\n",
    "price = mul_tax_layer.forward(apple_price, tax)\n",
    "\n",
    "print(f'price : {price}')\n",
    "\n",
    "# 역전파\n",
    "dprice = 1\n",
    "dapple_price, dtax = mul_tax_layer.backward(dprice)\n",
    "dapple, dapple_num = mul_apple_layer.backward(dapple_price)\n",
    "\n",
    "print(dapple, dapple_num, dtax, dapple_price)"
   ]
  },
  {
   "cell_type": "markdown",
   "id": "3785e218",
   "metadata": {},
   "source": [
    "부동소수점 때문에 소수점 이하 숫자들이 발생."
   ]
  },
  {
   "cell_type": "markdown",
   "id": "2dae69a9",
   "metadata": {},
   "source": [
    "### 덧셈 계층"
   ]
  },
  {
   "cell_type": "code",
   "execution_count": 9,
   "id": "9ad102ca",
   "metadata": {},
   "outputs": [],
   "source": [
    "class AddLayer:\n",
    "    def __init__(self): # 덧셈 역전파는 그냥 받은 값을 보내면 되니까, 순전파 값을 저장할 필요가 없음\n",
    "        pass\n",
    "    \n",
    "    def forward(self, x, y):\n",
    "        out = x + y\n",
    "        \n",
    "        return out\n",
    "    \n",
    "    def backward(self, dout):\n",
    "        dx = dout * 1\n",
    "        dy = dout * 1\n",
    "        \n",
    "        return dx, dy"
   ]
  },
  {
   "cell_type": "code",
   "execution_count": 10,
   "id": "a02502e6",
   "metadata": {},
   "outputs": [
    {
     "name": "stdout",
     "output_type": "stream",
     "text": [
      "price : 715.0000000000001\n",
      "2.2 110.00000000000001 3.3000000000000003 165.0 650\n"
     ]
    }
   ],
   "source": [
    "# ex2. 덧셈과 곱셈 계층 모두 활용 예시\n",
    "apple = 100\n",
    "num_a = 2\n",
    "orange = 150\n",
    "num_o = 3\n",
    "tax = 1.1\n",
    "\n",
    "# 계층\n",
    "mal = MulLayer() # 사과\n",
    "mol = MulLayer() # 오렌지 \n",
    "aaol = AddLayer() # 사과 & 오렌지\n",
    "mtl = MulLayer() # tax\n",
    "\n",
    "# forward\n",
    "apple_price = mal.forward(apple, num_a)\n",
    "orange_price = mol.forward(orange, num_o)\n",
    "ao_price = aaol.forward(apple_price, orange_price)\n",
    "price  = mtl.forward(ao_price, tax)\n",
    "print(f'price : {price}')\n",
    "\n",
    "# backward\n",
    "dprice = 1\n",
    "dao_price, dtax = mtl.backward(dprice)\n",
    "dapple_price, dorange_price = aaol.backward(dao_price)\n",
    "dapple, dnum_a = mal.backward(dapple_price)\n",
    "dorange, dnum_o = mol.backward(dorange_price)\n",
    "\n",
    "print(dapple, dnum_a, dorange, dnum_o, dtax)"
   ]
  },
  {
   "cell_type": "markdown",
   "id": "7eaf7615",
   "metadata": {},
   "source": [
    "## 5.5 활성화 함수 계층 구현 "
   ]
  },
  {
   "cell_type": "markdown",
   "id": "584e65ac",
   "metadata": {},
   "source": [
    "### 5.5.1 ReLU"
   ]
  },
  {
   "cell_type": "code",
   "execution_count": 12,
   "id": "cf5ab5de",
   "metadata": {},
   "outputs": [],
   "source": [
    "class Relu:\n",
    "    def __init__(self):\n",
    "        self.mask = None\n",
    "        \n",
    "    def forward(self, x):\n",
    "        self.mask = (x <= 0) # 0을 기준으로 true, false\n",
    "        out = x.copy()\n",
    "        out[self.mask] = 0\n",
    "        \n",
    "        return out\n",
    "    \n",
    "    def backward(self, dout):\n",
    "        dout[self.mask] = 0 # 순전파시 0보다 작았던 애들은 역전파 신호 보내지 않음\n",
    "        dx = dout\n",
    "        \n",
    "        return dx"
   ]
  },
  {
   "cell_type": "markdown",
   "id": "2ee2ebb8",
   "metadata": {},
   "source": [
    "### 5.5.2 Sigmoid"
   ]
  },
  {
   "cell_type": "code",
   "execution_count": 14,
   "id": "5dfeb21b",
   "metadata": {},
   "outputs": [],
   "source": [
    "class Sigmoid:\n",
    "    def __init__(self):\n",
    "        self.out = out # 순전파 출력값 저장\n",
    "        \n",
    "    def forward(self, x):\n",
    "        out = 1 / (1 + np.exp(-x))\n",
    "        self.out = out\n",
    "        \n",
    "        return out\n",
    "    \n",
    "    def backward(self, dout):\n",
    "        dx = dout * (1 - self.out) * self.out\n",
    "        \n",
    "        return dx"
   ]
  },
  {
   "cell_type": "markdown",
   "id": "e078426b",
   "metadata": {},
   "source": [
    "## 5.6 Affine, Softmax"
   ]
  },
  {
   "cell_type": "markdown",
   "id": "580f4dcc",
   "metadata": {},
   "source": [
    "### 5.6.2 Affine"
   ]
  },
  {
   "cell_type": "markdown",
   "id": "00f2467a",
   "metadata": {},
   "source": [
    "`Affine` : 순전파에서 행렬 곱을 의미  \n",
    "\n",
    "역전파 시, 행렬의 전치행렬 곱으로 표현이 가능(p.172)"
   ]
  },
  {
   "cell_type": "code",
   "execution_count": 15,
   "id": "1a18c2ee",
   "metadata": {},
   "outputs": [],
   "source": [
    "class Affine:\n",
    "    def __init__(self, W, b):\n",
    "        self.W = W\n",
    "        self.b = b\n",
    "        self.x = None\n",
    "        self.dW = None\n",
    "        self.db = None\n",
    "        \n",
    "    def forward(self, x):\n",
    "        self.x = x\n",
    "        out = np.dot(x, self.W) + self.b\n",
    "        \n",
    "        return out\n",
    "    \n",
    "    def backward(self, dout):\n",
    "        dx = np.dot(dout, self.W.T) # 가중치의 전치행렬 곱으로 나타냄\n",
    "        self.dW = np.dot(self.x.T, dout) # input의 전치행렬\n",
    "        self.db = np.sum(dout, axis=0)\n",
    "        \n",
    "        return dx"
   ]
  },
  {
   "cell_type": "markdown",
   "id": "4c2d526b",
   "metadata": {},
   "source": [
    "### 5.6.3 Softmax + CEE"
   ]
  },
  {
   "cell_type": "code",
   "execution_count": 16,
   "id": "64b2d9fc",
   "metadata": {},
   "outputs": [],
   "source": [
    "# softmax + CEE \n",
    "class SoftmaxWithLoss:\n",
    "    def __init__(self):\n",
    "        self.loss = None \n",
    "        self.y = None # softmax 출력\n",
    "        self.t = None # answer\n",
    "    \n",
    "    \n",
    "    def forward(self, x, t):\n",
    "        self.t = t\n",
    "        self.y = softmax(y)\n",
    "        self.loss = cross_entropy_error(self.y, self.t)\n",
    "        \n",
    "        return self.loss\n",
    "    \n",
    "    \n",
    "    def backward(self, dout=1):\n",
    "        batch_size = self.t.shape[0]\n",
    "        dx = (self.y - self.t) / batch_size # 역전파 시에는 배치로 나눠서 데이터 1개당의 오차를 앞으로 전파\n",
    "        \n",
    "        return dx"
   ]
  },
  {
   "cell_type": "markdown",
   "id": "e9ce1a4f",
   "metadata": {},
   "source": [
    "## 5.7 오차역전파를 활용한 최종 구현"
   ]
  },
  {
   "cell_type": "code",
   "execution_count": 23,
   "id": "449a9f85",
   "metadata": {},
   "outputs": [],
   "source": [
    "class TwoLayerNet:\n",
    "    def __init__(self, input_size, hidden_size, output_size, weight_init_std = 0.01):\n",
    "        # parameter\n",
    "        self.params = {}\n",
    "        self.params['W1'] = weight_init_std * np.random.randn(input_size, hidden_size)\n",
    "        self.params['b1'] = np.zeros(hidden_size)\n",
    "        self.params['W2'] = weight_init_std * np.random.randn(hidden_size, output_size)\n",
    "        self.params['b2'] = np.zeros(output_size)\n",
    "        \n",
    "        # layer\n",
    "        self.layers = OrderedDict() # 순서가 있는 딕셔너리 (순전파에서 layer의 순서를 통해 진행하려고 사용, 역전파는 반대)\n",
    "        self.layers['Affine1'] = Affine(self.params['W1'], self.params['b1'])\n",
    "        self.layers['Relu1'] = Relu()\n",
    "        self.layers['Affine2'] = Affine(self.params['W2'], self.params['b2'])\n",
    "        \n",
    "        self.lastLayer = SoftmaxWithLoss() # 마지막 출력층\n",
    "    \n",
    "    # 마지막 softmax를 제외한 순전파\n",
    "    def predict(self, x):\n",
    "        for layer in self.layers.values():\n",
    "            x = layer.forward(x)\n",
    "        \n",
    "        return x\n",
    "    \n",
    "    def loss(self, x, t):\n",
    "        y = self.predict(x)\n",
    "        \n",
    "        return self.lastLayer.forward(y, t)\n",
    "    \n",
    "    def accuracy(self, x, t):\n",
    "        y = self.predict(x)\n",
    "        y = np.argmax(y, axis=1)\n",
    "        if t.ndim != 1:\n",
    "            t = np.argmax(t, axis=1) # onehot 형태면 정답 인덱스만 가져오도록\n",
    "            \n",
    "        accuracy = np.sum(y==t) / float(x.shape[0])\n",
    "        \n",
    "        return accuracy\n",
    "    \n",
    "    # 수치미분 활용한 G.D\n",
    "    def numerical_gradient(self, x, t):\n",
    "        loss_W = lambda W: self.loss(x, t)\n",
    "        \n",
    "        grads = {}\n",
    "        grads['W1'] = numerical_gradient(loss_W, self.params['W1'])\n",
    "        grads['b1'] = numerical_gradient(loss_W, self.params['b1'])\n",
    "        grads['W2'] = numerical_gradient(loss_W, self.params['W2'])\n",
    "        grads['b2'] = numerical_gradient(loss_W, self.params['b2'])\n",
    "        \n",
    "        return grads\n",
    "    \n",
    "    # 오차역전파\n",
    "    def gradient(self, x, t):\n",
    "        # 순전파\n",
    "        self.loss(x, t)\n",
    "        \n",
    "        # 역전파\n",
    "        dout = 1\n",
    "        dout = self.lastLayer.backward(dout)\n",
    "        \n",
    "        layers = list(self.layers.values()) # 계층들 list 형태로 반환\n",
    "        layers.reverse() # 역전파는 반대로\n",
    "        for layer in layers:\n",
    "            dout = layer.backward(dout)\n",
    "        \n",
    "        grads = {}\n",
    "        grads['W1'] = self.layers['Affine1'].dW\n",
    "        grads['b1'] = self.layers['Affine1'].db\n",
    "        grads['W2'] = self.layers['Affine2'].dW\n",
    "        grads['b2'] = self.layers['Affine2'].db\n",
    "        \n",
    "        return grads"
   ]
  },
  {
   "cell_type": "markdown",
   "id": "7bbe65ec",
   "metadata": {},
   "source": [
    "### 5.7.3 수치미분을 통해 오차역전파 검증"
   ]
  },
  {
   "cell_type": "code",
   "execution_count": 25,
   "id": "a84827c6",
   "metadata": {},
   "outputs": [
    {
     "name": "stdout",
     "output_type": "stream",
     "text": [
      "수치미분: 5.403294086456299\n",
      "역전파: 0.002431154251098633\n",
      "W1 : 4.1146087306120684e-10\n",
      "b1 : 2.55322563792737e-09\n",
      "W2 : 5.8462063189670085e-09\n",
      "b2 : 1.404320693537686e-07\n"
     ]
    }
   ],
   "source": [
    "from dataset.mnist import load_mnist\n",
    "import time \n",
    "from common.gradient import numerical_gradient\n",
    "\n",
    "(x_train, t_train), (x_test, t_test) = load_mnist(normalize=True, one_hot_label=True)\n",
    "\n",
    "x_batch = x_train[:3]\n",
    "t_batch = t_train[:3]\n",
    "\n",
    "network = TwoLayerNet(input_size=784, hidden_size=50, output_size=10)\n",
    "\n",
    "# 수치미분\n",
    "start_gn = time.time()\n",
    "grad_numerical = network.numerical_gradient(x_batch, t_batch)\n",
    "end_gn = time.time()\n",
    "print('수치미분: ' + str(end_gn - start_gn))\n",
    "\n",
    "# 역전파\n",
    "start_gb = time.time()\n",
    "grad_backprop = network.gradient(x_batch, t_batch)\n",
    "end_gb = time.time()\n",
    "print('역전파: ' + str(end_gb - start_gb))\n",
    "\n",
    "# 차이 검증\n",
    "for key in grad_backprop.keys():\n",
    "    diff = np.average(np.abs(grad_backprop[key] - grad_numerical[key]))\n",
    "    print(key + \" : \" + str(diff))"
   ]
  },
  {
   "cell_type": "markdown",
   "id": "592ad73c",
   "metadata": {},
   "source": [
    "시간도 역전파가 매우 빠르고, 오차는 거의 없음"
   ]
  },
  {
   "cell_type": "markdown",
   "id": "e412bc4d",
   "metadata": {},
   "source": [
    "### 5.7.4 오차역전파를 통한 학습 구현"
   ]
  },
  {
   "cell_type": "code",
   "execution_count": 28,
   "id": "8a53d364",
   "metadata": {},
   "outputs": [
    {
     "name": "stderr",
     "output_type": "stream",
     "text": [
      "  0%|▏                                      | 39/10000 [00:00<01:31, 108.72it/s]"
     ]
    },
    {
     "name": "stdout",
     "output_type": "stream",
     "text": [
      "0.1015 0.0981\n"
     ]
    },
    {
     "name": "stderr",
     "output_type": "stream",
     "text": [
      "  6%|██▍                                   | 646/10000 [00:02<00:44, 208.63it/s]"
     ]
    },
    {
     "name": "stdout",
     "output_type": "stream",
     "text": [
      "0.9053333333333333 0.908\n"
     ]
    },
    {
     "name": "stderr",
     "output_type": "stream",
     "text": [
      " 12%|████▌                                | 1240/10000 [00:04<00:44, 196.54it/s]"
     ]
    },
    {
     "name": "stdout",
     "output_type": "stream",
     "text": [
      "0.92635 0.9281\n"
     ]
    },
    {
     "name": "stderr",
     "output_type": "stream",
     "text": [
      " 19%|██████▉                              | 1878/10000 [00:06<00:38, 210.16it/s]"
     ]
    },
    {
     "name": "stdout",
     "output_type": "stream",
     "text": [
      "0.9364833333333333 0.9379\n"
     ]
    },
    {
     "name": "stderr",
     "output_type": "stream",
     "text": [
      " 25%|█████████▏                           | 2477/10000 [00:08<00:36, 204.44it/s]"
     ]
    },
    {
     "name": "stdout",
     "output_type": "stream",
     "text": [
      "0.94535 0.9446\n"
     ]
    },
    {
     "name": "stderr",
     "output_type": "stream",
     "text": [
      " 31%|███████████▎                         | 3063/10000 [00:10<00:35, 197.30it/s]"
     ]
    },
    {
     "name": "stdout",
     "output_type": "stream",
     "text": [
      "0.9518333333333333 0.9495\n"
     ]
    },
    {
     "name": "stderr",
     "output_type": "stream",
     "text": [
      " 37%|█████████████▌                       | 3654/10000 [00:12<00:30, 209.89it/s]"
     ]
    },
    {
     "name": "stdout",
     "output_type": "stream",
     "text": [
      "0.95715 0.9541\n"
     ]
    },
    {
     "name": "stderr",
     "output_type": "stream",
     "text": [
      " 43%|███████████████▋                     | 4254/10000 [00:14<00:27, 208.67it/s]"
     ]
    },
    {
     "name": "stdout",
     "output_type": "stream",
     "text": [
      "0.9608333333333333 0.9568\n"
     ]
    },
    {
     "name": "stderr",
     "output_type": "stream",
     "text": [
      " 49%|█████████████████▉                   | 4853/10000 [00:16<00:24, 211.30it/s]"
     ]
    },
    {
     "name": "stdout",
     "output_type": "stream",
     "text": [
      "0.9650333333333333 0.9621\n"
     ]
    },
    {
     "name": "stderr",
     "output_type": "stream",
     "text": [
      " 55%|████████████████████▏                | 5452/10000 [00:18<00:21, 209.19it/s]"
     ]
    },
    {
     "name": "stdout",
     "output_type": "stream",
     "text": [
      "0.9677833333333333 0.9627\n"
     ]
    },
    {
     "name": "stderr",
     "output_type": "stream",
     "text": [
      " 60%|██████████████████████▍              | 6048/10000 [00:20<00:20, 195.94it/s]"
     ]
    },
    {
     "name": "stdout",
     "output_type": "stream",
     "text": [
      "0.9692833333333334 0.965\n"
     ]
    },
    {
     "name": "stderr",
     "output_type": "stream",
     "text": [
      " 66%|████████████████████████▌            | 6641/10000 [00:22<00:16, 209.03it/s]"
     ]
    },
    {
     "name": "stdout",
     "output_type": "stream",
     "text": [
      "0.9725833333333334 0.9671\n"
     ]
    },
    {
     "name": "stderr",
     "output_type": "stream",
     "text": [
      " 73%|██████████████████████████▉          | 7277/10000 [00:24<00:13, 205.73it/s]"
     ]
    },
    {
     "name": "stdout",
     "output_type": "stream",
     "text": [
      "0.9744166666666667 0.9679\n"
     ]
    },
    {
     "name": "stderr",
     "output_type": "stream",
     "text": [
      " 78%|████████████████████████████▉        | 7834/10000 [00:26<00:12, 169.43it/s]"
     ]
    },
    {
     "name": "stdout",
     "output_type": "stream",
     "text": [
      "0.97585 0.9682\n"
     ]
    },
    {
     "name": "stderr",
     "output_type": "stream",
     "text": [
      " 85%|███████████████████████████████▎     | 8468/10000 [00:28<00:07, 203.17it/s]"
     ]
    },
    {
     "name": "stdout",
     "output_type": "stream",
     "text": [
      "0.9774333333333334 0.9685\n"
     ]
    },
    {
     "name": "stderr",
     "output_type": "stream",
     "text": [
      " 91%|█████████████████████████████████▌   | 9066/10000 [00:30<00:04, 212.22it/s]"
     ]
    },
    {
     "name": "stdout",
     "output_type": "stream",
     "text": [
      "0.9784 0.9713\n"
     ]
    },
    {
     "name": "stderr",
     "output_type": "stream",
     "text": [
      " 97%|███████████████████████████████████▊ | 9672/10000 [00:32<00:01, 200.66it/s]"
     ]
    },
    {
     "name": "stdout",
     "output_type": "stream",
     "text": [
      "0.9788166666666667 0.9699\n"
     ]
    },
    {
     "name": "stderr",
     "output_type": "stream",
     "text": [
      "100%|████████████████████████████████████| 10000/10000 [00:33<00:00, 302.61it/s]\n"
     ]
    }
   ],
   "source": [
    "(x_train, t_train), (x_test, t_test) = load_mnist(normalize=True, one_hot_label=True)\n",
    "\n",
    "network = TwoLayerNet(input_size=784, hidden_size=50, output_size=10)\n",
    "\n",
    "iters_num = 10000\n",
    "train_size = x_train.shape[0]\n",
    "batch_size = 100\n",
    "learning_rate = 0.1\n",
    "\n",
    "train_loss_list = []\n",
    "train_acc_list = []\n",
    "test_acc_list = []\n",
    "\n",
    "iter_per_epoch = max(train_size/batch_size, 1)\n",
    "\n",
    "for i in tqdm(range(iters_num)):\n",
    "    batch_mask = np.random.choice(train_size, batch_size)\n",
    "    x_batch = x_train[batch_mask]\n",
    "    t_batch = t_train[batch_mask]\n",
    "    \n",
    "    # 오차역전파 활용\n",
    "    grad = network.gradient(x_batch, t_batch)\n",
    "    \n",
    "    for key in ('W1', 'b1', 'W2', 'b2'):\n",
    "        network.params[key] -= learning_rate * grad[key]\n",
    "        \n",
    "    loss = network.loss(x_batch, t_batch)\n",
    "    train_loss_list.append(loss)\n",
    "    \n",
    "    if i % iter_per_epoch == 0:\n",
    "        train_acc = network.accuracy(x_train, t_train)\n",
    "        test_acc = network.accuracy(x_test, t_test)\n",
    "        train_acc_list.append(train_acc)\n",
    "        test_acc_list.append(test_acc)\n",
    "        print(train_acc, test_acc)"
   ]
  }
 ],
 "metadata": {
  "kernelspec": {
   "display_name": "Python 3 (ipykernel)",
   "language": "python",
   "name": "python3"
  },
  "language_info": {
   "codemirror_mode": {
    "name": "ipython",
    "version": 3
   },
   "file_extension": ".py",
   "mimetype": "text/x-python",
   "name": "python",
   "nbconvert_exporter": "python",
   "pygments_lexer": "ipython3",
   "version": "3.9.13"
  }
 },
 "nbformat": 4,
 "nbformat_minor": 5
}
