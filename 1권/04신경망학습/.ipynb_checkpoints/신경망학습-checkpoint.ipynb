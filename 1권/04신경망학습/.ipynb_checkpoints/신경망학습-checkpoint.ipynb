{
 "cells": [
  {
   "cell_type": "code",
   "execution_count": 1,
   "id": "c08a28ea",
   "metadata": {},
   "outputs": [],
   "source": [
    "import numpy as np\n",
    "import sys, os \n",
    "sys.path.append(os.pardir)\n",
    "from dataset.mnist import load_mnist\n",
    "import matplotlib.pyplot as plt"
   ]
  },
  {
   "cell_type": "markdown",
   "id": "b7eb2a87",
   "metadata": {},
   "source": [
    "- `학습` : 훈련 데이터로부터 가중치 매개변수의 최적값을 자동으로 획득\n",
    "- `end-to-end` : 딥러닝은 데이터 입력에서 출력까지 사람의 개입이 없음"
   ]
  },
  {
   "cell_type": "markdown",
   "id": "8f4d5c66",
   "metadata": {},
   "source": [
    "## 4.2 손실함수"
   ]
  },
  {
   "cell_type": "markdown",
   "id": "f4a9fcd9",
   "metadata": {},
   "source": [
    "### 4.2.1 SEE, CEE"
   ]
  },
  {
   "cell_type": "code",
   "execution_count": 4,
   "id": "dce8250c",
   "metadata": {},
   "outputs": [
    {
     "name": "stdout",
     "output_type": "stream",
     "text": [
      "0.09750000000000003\n",
      "0.5975\n",
      "0.510825457099338\n",
      "2.302584092994546\n"
     ]
    }
   ],
   "source": [
    "# sse\n",
    "def sum_squares_error(y,t):\n",
    "    return 0.5 * np.sum((y-t)**2)\n",
    "\n",
    "# cross entropy error \n",
    "def cross_entropy_error(y,t):\n",
    "    delta = 1e-7 #입력에 0이 나올때 inf 값 방지\n",
    "    return -np.sum(t*np.log(y+delta))\n",
    "\n",
    "# ex\n",
    "t = [0,0,1,0,0,0,0,0,0,0] # ans = 2 \n",
    "y1 = [0.1, 0.05, 0.6, 0, 0.05, 0.1, 0, 0.1, 0, 0] # ans = 2라고 예상\n",
    "y2 = [0.1, 0.05, 0.1, 0, 0.05, 0.1, 0, 0.6, 0, 0] # ans = 7라고 예상\n",
    "\n",
    "print(sum_squares_error(np.array(y1), np.array(t))) \n",
    "print(sum_squares_error(np.array(y2), np.array(t)))\n",
    "print(cross_entropy_error(np.array(y1), np.array(t)))\n",
    "print(cross_entropy_error(np.array(y2), np.array(t)))"
   ]
  },
  {
   "cell_type": "markdown",
   "id": "0df05592",
   "metadata": {},
   "source": [
    "### 4.2.3 mini batch"
   ]
  },
  {
   "cell_type": "markdown",
   "id": "c588cce2",
   "metadata": {},
   "source": [
    "일부 데이터만을 골라 학습을 진행, 전체의 근사치로 활용"
   ]
  },
  {
   "cell_type": "code",
   "execution_count": 7,
   "id": "64564c30",
   "metadata": {},
   "outputs": [
    {
     "name": "stdout",
     "output_type": "stream",
     "text": [
      "(60000, 784)\n",
      "(60000, 10)\n"
     ]
    }
   ],
   "source": [
    "# data load\n",
    "(x_train, t_train), (x_test, t_test) = load_mnist(normalize=True, one_hot_label=True)\n",
    "\n",
    "print(x_train.shape)\n",
    "print(t_train.shape)"
   ]
  },
  {
   "cell_type": "code",
   "execution_count": 11,
   "id": "42ac4875",
   "metadata": {},
   "outputs": [
    {
     "name": "stdout",
     "output_type": "stream",
     "text": [
      "[16020 20843 21482 51327 20955 20030 57635  3331 40503 42226] 10\n"
     ]
    }
   ],
   "source": [
    "# 10개씩 mini batch \n",
    "train_size = x_train.shape[0] # 60,000개 중\n",
    "batch_size = 10 # 10개씩\n",
    "batch_mask = np.random.choice(train_size, batch_size)\n",
    "x_batch = x_train[batch_mask]\n",
    "t_batch = t_train[batch_mask]\n",
    "\n",
    "print(batch_mask, len(batch_mask))"
   ]
  },
  {
   "cell_type": "markdown",
   "id": "079ee495",
   "metadata": {},
   "source": [
    "### 4.2.4 배치용 Cross Entropy"
   ]
  },
  {
   "cell_type": "code",
   "execution_count": 19,
   "id": "4f06257c",
   "metadata": {},
   "outputs": [],
   "source": [
    "# one-hot인 경우\n",
    "def cee_onehot(y, t):\n",
    "    if y.ndim == 1: # 1차원이라면 이미지 1장당 CEE를 구하도록 reshape\n",
    "        t = t.reshape(1, t.size)\n",
    "        y = y.reshape(1, y.size)\n",
    "        \n",
    "    batch_size = y.shape[0]\n",
    "    \n",
    "    return -np.sum(t*np.log(y+1e-7)) / batch_size\n",
    "\n",
    "# one-hot 아닌 경우\n",
    "def cee(y,t):\n",
    "    if y.ndim == 1: # 1차원이라면 이미지 1장당 CEE를 구하도록 reshape\n",
    "        t = t.reshape(1, t.size)\n",
    "        y = y.reshape(1, y.size)\n",
    "        \n",
    "    batch_size = y.shape[0]\n",
    "    \n",
    "    return -np.sum(np.log(y[np.arange(batch_size), t] + 1e-7)) / batch_size # 실제 정답에 해당하는 출력만을 사용"
   ]
  },
  {
   "cell_type": "markdown",
   "id": "1ffaa267",
   "metadata": {},
   "source": [
    "y의 특정 index의 정답 값의 확률을 가져다가 np.log"
   ]
  },
  {
   "cell_type": "markdown",
   "id": "6bf28a73",
   "metadata": {},
   "source": [
    "### 4.2.5 손실함수 설정이유"
   ]
  },
  {
   "cell_type": "markdown",
   "id": "e03d46fa",
   "metadata": {},
   "source": [
    "정확도를 지표로 삼아버리면, 가중치를 변경해도 연속적이 아닌 값(불연속적)으로 변화하고 대부분의 매개변수 미분이 0으로 나타나 갱신이 불가능함.  \n",
    "손실함수는 연속적인 변화값으로 나옴."
   ]
  },
  {
   "cell_type": "markdown",
   "id": "68fd7ceb",
   "metadata": {},
   "source": [
    "## 4.3 수치미분"
   ]
  },
  {
   "cell_type": "code",
   "execution_count": 20,
   "id": "cba91a07",
   "metadata": {},
   "outputs": [],
   "source": [
    "# 중심 차분\n",
    "def numerical_diff(f,x):\n",
    "    h = 1e-4\n",
    "    \n",
    "    return (f(x+h) - f(x-h)) / (2*h)"
   ]
  },
  {
   "cell_type": "markdown",
   "id": "7ed555eb",
   "metadata": {},
   "source": [
    "오차를 방지하기 위해서 중심 차분을 활용하고, h가 너무 0으로 수렴할 경우 반올림 오차가 발생하여 1e-4를 활용."
   ]
  },
  {
   "cell_type": "code",
   "execution_count": 24,
   "id": "d3d79a34",
   "metadata": {},
   "outputs": [
    {
     "data": {
      "image/png": "[encoded data removed]",
      "text/plain": [
       "<Figure size 640x480 with 1 Axes>"
      ]
     },
     "metadata": {},
     "output_type": "display_data"
    },
    {
     "name": "stdout",
     "output_type": "stream",
     "text": [
      "0.1999999999990898\n",
      "0.2999999999986347\n"
     ]
    }
   ],
   "source": [
    "# ex1\n",
    "def function_1(x):\n",
    "    return 0.01*x**2 + 0.1*x\n",
    "\n",
    "x = np.arange(0.0, 20., 0.1)\n",
    "y = function_1(x)\n",
    "plt.xlabel('x')\n",
    "plt.ylabel('')\n",
    "plt.plot(x,y)\n",
    "plt.show()\n",
    "\n",
    "print(numerical_diff(function_1, 5)) # 5에서 미분값\n",
    "print(numerical_diff(function_1, 10)) # 10에서 미분값"
   ]
  },
  {
   "cell_type": "code",
   "execution_count": 25,
   "id": "075224ec",
   "metadata": {
    "scrolled": false
   },
   "outputs": [
    {
     "name": "stdout",
     "output_type": "stream",
     "text": [
      "0.1999999999990898\n"
     ]
    },
    {
     "data": {
      "image/png": "[encoded data removed]",
      "text/plain": [
       "<Figure size 640x480 with 1 Axes>"
      ]
     },
     "metadata": {},
     "output_type": "display_data"
    }
   ],
   "source": [
    "def tangent_line(f, x):\n",
    "    d = numerical_diff(f, x)\n",
    "    print(d)\n",
    "    y = f(x) - d*x\n",
    "    return lambda t: d*t + y\n",
    "\n",
    "x = np.arange(0.0, 20.0, 0.1)\n",
    "y = function_1(x)\n",
    "plt.xlabel(\"x\")\n",
    "plt.ylabel(\"f(x)\")\n",
    "\n",
    "tf = tangent_line(function_1, 5)\n",
    "y2 = tf(x)\n",
    "\n",
    "plt.plot(x, y)\n",
    "plt.plot(x, y2)\n",
    "plt.show()"
   ]
  },
  {
   "cell_type": "code",
   "execution_count": 27,
   "id": "44c65fee",
   "metadata": {},
   "outputs": [
    {
     "name": "stdout",
     "output_type": "stream",
     "text": [
      "0.2999999999986347\n"
     ]
    },
    {
     "data": {
      "image/png": "[encoded data removed]",
      "text/plain": [
       "<Figure size 640x480 with 1 Axes>"
      ]
     },
     "metadata": {},
     "output_type": "display_data"
    }
   ],
   "source": [
    "x = np.arange(0.0, 20.0, 0.1)\n",
    "y = function_1(x)\n",
    "plt.xlabel(\"x\")\n",
    "plt.ylabel(\"f(x)\")\n",
    "\n",
    "tf = tangent_line(function_1, 10)\n",
    "y2 = tf(x)\n",
    "\n",
    "plt.plot(x, y)\n",
    "plt.plot(x, y2)\n",
    "plt.show()"
   ]
  },
  {
   "cell_type": "markdown",
   "id": "44bcd81e",
   "metadata": {},
   "source": [
    "### 4.3.3 편미분"
   ]
  },
  {
   "cell_type": "code",
   "execution_count": 29,
   "id": "1b78ed9f",
   "metadata": {},
   "outputs": [
    {
     "name": "stdout",
     "output_type": "stream",
     "text": [
      "6.00000000000378\n",
      "7.999999999999119\n"
     ]
    }
   ],
   "source": [
    "def function_2(x):\n",
    "    return np.sum(x**2) # np.array 형태의 x를 받음\n",
    "\n",
    "# ex1. x0=3, x1=4일때 x0에 대한 편미분\n",
    "def function_tmp1(x0):\n",
    "    return x0*x0 + 4**2\n",
    "\n",
    "print(numerical_diff(function_tmp1, 3.))\n",
    "\n",
    "# ex2. x0=3, x1=4일때 x1에 대한 편미분\n",
    "def function_tmp2(x1):\n",
    "    return 3**2 + x1*x1\n",
    "\n",
    "print(numerical_diff(function_tmp2, 4.))"
   ]
  },
  {
   "cell_type": "markdown",
   "id": "61dcd510",
   "metadata": {},
   "source": [
    "하나의 변수를 고정하고 미분을 진행."
   ]
  },
  {
   "cell_type": "markdown",
   "id": "d91da953",
   "metadata": {},
   "source": [
    "### 4.4 기울기"
   ]
  },
  {
   "cell_type": "code",
   "execution_count": 4,
   "id": "6e59cb94",
   "metadata": {},
   "outputs": [],
   "source": [
    "def numerical_gradient(f,x):\n",
    "    h = 1e-4\n",
    "    grad = np.zeros_like(x) # temp\n",
    "    \n",
    "    for idx in range(x.size):\n",
    "        temp_val = x[idx]\n",
    "        \n",
    "        x[idx] = temp_val + h\n",
    "        fxh1 = f(x)\n",
    "        \n",
    "        x[idx] = temp_val - h\n",
    "        fxh2 = f(x)\n",
    "        \n",
    "        grad[idx] = (fxh1 - fxh2) / (2*h)\n",
    "        x[idx] = temp_val # 다시 복귀\n",
    "        \n",
    "    return grad"
   ]
  },
  {
   "cell_type": "code",
   "execution_count": 31,
   "id": "0b7838e1",
   "metadata": {
    "scrolled": true
   },
   "outputs": [
    {
     "name": "stdout",
     "output_type": "stream",
     "text": [
      "[6. 8.]\n",
      "[0. 4.]\n",
      "[6. 0.]\n"
     ]
    }
   ],
   "source": [
    "print(numerical_gradient(function_2, np.array([3., 4.])))\n",
    "print(numerical_gradient(function_2, np.array([0., 2.])))\n",
    "print(numerical_gradient(function_2, np.array([3., 0.])))"
   ]
  },
  {
   "cell_type": "markdown",
   "id": "2e3aa762",
   "metadata": {},
   "source": [
    "gradient 시각화"
   ]
  },
  {
   "cell_type": "code",
   "execution_count": 33,
   "id": "fd23a916",
   "metadata": {
    "scrolled": false
   },
   "outputs": [
    {
     "name": "stderr",
     "output_type": "stream",
     "text": [
      "No artists with labels found to put in legend.  Note that artists whose label start with an underscore are ignored when legend() is called with no argument.\n"
     ]
    },
    {
     "data": {
      "image/png": "[encoded data removed]",
      "text/plain": [
       "<Figure size 640x480 with 1 Axes>"
      ]
     },
     "metadata": {},
     "output_type": "display_data"
    }
   ],
   "source": [
    "from mpl_toolkits.mplot3d import Axes3D\n",
    "\n",
    "def _numerical_gradient_no_batch(f, x):\n",
    "    h = 1e-4 # 0.0001\n",
    "    grad = np.zeros_like(x) # x와 형상이 같은 배열을 생성\n",
    "    \n",
    "    for idx in range(x.size):\n",
    "        tmp_val = x[idx]\n",
    "        \n",
    "        # f(x+h) 계산\n",
    "        x[idx] = float(tmp_val) + h\n",
    "        fxh1 = f(x)\n",
    "        \n",
    "        # f(x-h) 계산\n",
    "        x[idx] = tmp_val - h \n",
    "        fxh2 = f(x) \n",
    "        \n",
    "        grad[idx] = (fxh1 - fxh2) / (2*h)\n",
    "        x[idx] = tmp_val # 값 복원\n",
    "        \n",
    "    return grad\n",
    "\n",
    "def numerical_gradient(f, X):\n",
    "    if X.ndim == 1:\n",
    "        return _numerical_gradient_no_batch(f, X)\n",
    "    else:\n",
    "        grad = np.zeros_like(X)\n",
    "        \n",
    "        for idx, x in enumerate(X):\n",
    "            grad[idx] = _numerical_gradient_no_batch(f, x)\n",
    "        \n",
    "        return grad\n",
    "\n",
    "\n",
    "def function_2(x):\n",
    "    if x.ndim == 1:\n",
    "        return np.sum(x**2)\n",
    "    else:\n",
    "        return np.sum(x**2, axis=1)\n",
    "\n",
    "\n",
    "def tangent_line(f, x):\n",
    "    return lambda t: d*t + y\n",
    "     \n",
    "if __name__ == '__main__':\n",
    "    x0 = np.arange(-2, 2.5, 0.25)\n",
    "    x1 = np.arange(-2, 2.5, 0.25)\n",
    "    X, Y = np.meshgrid(x0, x1)\n",
    "    \n",
    "    X = X.flatten()\n",
    "    Y = Y.flatten()\n",
    "    \n",
    "    grad = numerical_gradient(function_2, np.array([X, Y]) )\n",
    "    \n",
    "    plt.figure()\n",
    "    plt.quiver(X, Y, -grad[0], -grad[1],  angles=\"xy\",color=\"#666666\")#,headwidth=10,scale=40,color=\"#444444\")\n",
    "    plt.xlim([-2, 2])\n",
    "    plt.ylim([-2, 2])\n",
    "    plt.xlabel('x0')\n",
    "    plt.ylabel('x1')\n",
    "    plt.grid()\n",
    "    plt.legend()\n",
    "    plt.draw()\n",
    "    plt.show()"
   ]
  },
  {
   "cell_type": "markdown",
   "id": "a1839d0b",
   "metadata": {},
   "source": [
    "### 4.4.1 Gradient Descent"
   ]
  },
  {
   "cell_type": "code",
   "execution_count": 2,
   "id": "08c86f81",
   "metadata": {},
   "outputs": [],
   "source": [
    "def gradient_descent(f, init_x, lr=0.01, step_num=100):\n",
    "    x = init_x\n",
    "    \n",
    "    for i in range(step_num):\n",
    "        grad = numerical_gradient(f,x)\n",
    "        x -= lr * grad # 갱신 \n",
    "        \n",
    "    return x"
   ]
  },
  {
   "cell_type": "code",
   "execution_count": 9,
   "id": "64f3097b",
   "metadata": {},
   "outputs": [
    {
     "name": "stdout",
     "output_type": "stream",
     "text": [
      "학습률 0.1: [-6.11110793e-10  8.14814391e-10]\n",
      "학습률 1e-10(학습이 안됨): [-2.99999994  3.99999992]\n",
      "학습률 10(발산): [-2.58983747e+13 -1.29524862e+12]\n"
     ]
    }
   ],
   "source": [
    "def func_2(x):\n",
    "    return x[0]**2 + x[1]**2\n",
    "\n",
    "init_x = np.array([-3., 4.])\n",
    "print(f'학습률 0.1: {gradient_descent(func_2, init_x=init_x, lr=0.1, step_num=100)}')\n",
    "\n",
    "init_x = np.array([-3., 4.])\n",
    "print(f'학습률 1e-10(학습이 안됨): {gradient_descent(func_2, init_x=init_x, lr=1e-10, step_num=100)}')\n",
    "\n",
    "init_x = np.array([-3., 4.])\n",
    "print(f'학습률 10(발산): {gradient_descent(func_2, init_x=init_x, lr=10, step_num=100)}')"
   ]
  },
  {
   "cell_type": "markdown",
   "id": "a94a36aa",
   "metadata": {},
   "source": [
    "### 4.4.2 신경망에서의 기울기"
   ]
  },
  {
   "cell_type": "code",
   "execution_count": 10,
   "id": "c7094c05",
   "metadata": {},
   "outputs": [],
   "source": [
    "from common.functions import softmax, cross_entropy_error\n",
    "from common.gradient import numerical_gradient\n",
    "\n",
    "class simpleNet:\n",
    "    def __init__(self):\n",
    "        self.W = np.random.randn(2,3)\n",
    "    \n",
    "    def predict(self, x):\n",
    "        return np.dot(x, self.W)\n",
    "    \n",
    "    def loss(self, x, t):\n",
    "        z = self.predict(x)\n",
    "        y = softmax(z)\n",
    "        loss = cross_entropy_error(y, t)\n",
    "        \n",
    "        return loss"
   ]
  },
  {
   "cell_type": "code",
   "execution_count": 11,
   "id": "055e2390",
   "metadata": {},
   "outputs": [
    {
     "name": "stdout",
     "output_type": "stream",
     "text": [
      "[[ 1.37910909  0.6146063  -0.93856241]\n",
      " [-0.47830849 -0.44702224  0.04123804]]\n",
      "[ 0.39698782 -0.03355624 -0.52602321]\n",
      "0\n",
      "1.639618408715179\n"
     ]
    }
   ],
   "source": [
    "# ex1.\n",
    "net = simpleNet()\n",
    "print(net.W) # 가중치\n",
    "\n",
    "x = np.array([0.6, 0.9]) #임의의 input\n",
    "p = net.predict(x)\n",
    "print(p) # output\n",
    "\n",
    "print(np.argmax(p)) # 최대값 인덱스\n",
    "t = np.array([0, 0, 1]) # 정답 label\n",
    "print(net.loss(x, t))"
   ]
  },
  {
   "cell_type": "markdown",
   "id": "62503c04",
   "metadata": {},
   "source": [
    "W를 랜덤으로 생성해서 결과가 다름"
   ]
  },
  {
   "cell_type": "code",
   "execution_count": 14,
   "id": "4ce70cfd",
   "metadata": {},
   "outputs": [
    {
     "name": "stdout",
     "output_type": "stream",
     "text": [
      "[[ 0.29304355  0.19052381 -0.48356736]\n",
      " [ 0.43956533  0.28578572 -0.72535105]]\n"
     ]
    }
   ],
   "source": [
    "def f(W): # f = lambda w: net.loss(x,t)로 표현해도 됌.\n",
    "    return net.loss(x,t)\n",
    "\n",
    "dW = numerical_gradient(f, net.W) # CEE를 통해서 GD를 진행. \n",
    "print(dW)"
   ]
  },
  {
   "cell_type": "markdown",
   "id": "a6ecbb44",
   "metadata": {},
   "source": [
    "w11을 p만큼 증가시키면, 0.29p만큼 손실함수 값이 증가  \n",
    "w23을 p만큼 증가시키면, 0.72p만큼 손실함수 값이 감소\n",
    "\n",
    "따라서 w23은 양의 방향으로, w11은 음의 방향으로 갱신해야 함"
   ]
  },
  {
   "cell_type": "markdown",
   "id": "0a574af5",
   "metadata": {},
   "source": [
    "## 4.5 학습 알고리즘 구현"
   ]
  },
  {
   "cell_type": "markdown",
   "id": "16a7af07",
   "metadata": {},
   "source": [
    "학습과정\n",
    "1. mini batch를 통해 일부 데이터 선별\n",
    "2. G.D 진행\n",
    "3. 매개변수 갱신\n",
    "4. 1~3 반복"
   ]
  },
  {
   "cell_type": "markdown",
   "id": "e5647bf4",
   "metadata": {},
   "source": [
    "### 4.5.1 2층 신경망 클래스 구현"
   ]
  },
  {
   "cell_type": "code",
   "execution_count": 23,
   "id": "78cf9153",
   "metadata": {},
   "outputs": [],
   "source": [
    "from common.functions import *\n",
    "from common.gradient import numerical_gradient\n",
    "\n",
    "class TwoLayerNet:\n",
    "    def __init__(self, input_size, hidden_size, output_size, weight_init_std=0.01):\n",
    "        # 가중치 초기화\n",
    "        self.params = {}\n",
    "        self.params['W1'] = weight_init_std * np.random.randn(input_size, hidden_size) # input_size x hidden_size\n",
    "        self.params['b1'] = np.zeros(hidden_size) # 1 x hidden_size\n",
    "        self.params['W2'] = weight_init_std * np.random.randn(hidden_size, output_size)\n",
    "        self.params['b2'] = np.zeros(output_size)\n",
    "        \n",
    "    def predict(self, x):\n",
    "        W1, W2 = self.params['W1'], self.params['W2']\n",
    "        b1, b2 = self.params['b1'], self.params['b2']\n",
    "        \n",
    "        a1 = np.dot(x, W1) + b1\n",
    "        z1 = sigmoid(a1) # activation function \n",
    "        a2 = np.dot(z1, W2) + b2\n",
    "        y = softmax(a2) # output\n",
    "        \n",
    "        return y\n",
    "    \n",
    "    # 손실함수 사용\n",
    "    def loss(self, x, t):\n",
    "        y = self.predict(x)\n",
    "        \n",
    "        return cross_entropy_error(y, t)\n",
    "    \n",
    "    # 정확도 평가\n",
    "    def accuracy(self, x, t):\n",
    "        y = self.predict(x)\n",
    "        y = np.argmax(y, axis=1)\n",
    "        t = np.argmax(t, axis=1)\n",
    "        \n",
    "        accuracy = np.sum(y==t) / float(x.shape[0]) # 같은 경우 True => 1 , 다른 경우 False => 0 \n",
    "     \n",
    "        return accuracy\n",
    "    \n",
    "    # 경사 하강법 적용\n",
    "    def numerical_gradient(self, x, t):\n",
    "        loss_W = lambda W: self.loss(x,t) # 손실함수 선언\n",
    "        \n",
    "        grads = {}\n",
    "        grads['W1'] = numerical_gradient(loss_W, self.params['W1']) # w1 가중치의 gradient를 구함 \n",
    "        grads['b1'] = numerical_gradient(loss_W, self.params['b1'])\n",
    "        grads['W2'] = numerical_gradient(loss_W, self.params['W2'])\n",
    "        grads['b2'] = numerical_gradient(loss_W, self.params['b2'])\n",
    "        \n",
    "        return grads"
   ]
  },
  {
   "cell_type": "code",
   "execution_count": 17,
   "id": "0bb0e954",
   "metadata": {},
   "outputs": [
    {
     "name": "stdout",
     "output_type": "stream",
     "text": [
      "(784, 100)\n",
      "(100,)\n",
      "(100, 10)\n",
      "(10,)\n"
     ]
    }
   ],
   "source": [
    "# 초기 가중치 및 bias 확인\n",
    "net = TwoLayerNet(input_size=784, hidden_size=100, output_size=10)\n",
    "print(net.params['W1'].shape)\n",
    "print(net.params['b1'].shape)\n",
    "print(net.params['W2'].shape)\n",
    "print(net.params['b2'].shape)"
   ]
  },
  {
   "cell_type": "markdown",
   "id": "76b07482",
   "metadata": {},
   "source": [
    "### 4.5.2 미니배치 구현"
   ]
  },
  {
   "cell_type": "code",
   "execution_count": 22,
   "id": "61f05392",
   "metadata": {},
   "outputs": [
    {
     "name": "stderr",
     "output_type": "stream",
     "text": [
      " 10%|████▍                                       | 1/10 [00:50<07:33, 50.39s/it]"
     ]
    },
    {
     "name": "stdout",
     "output_type": "stream",
     "text": [
      "train acc, test acc | 0.09871666666666666, 0.098\n"
     ]
    },
    {
     "name": "stderr",
     "output_type": "stream",
     "text": [
      "100%|███████████████████████████████████████████| 10/10 [08:58<00:00, 53.90s/it]\n"
     ]
    }
   ],
   "source": [
    "from tqdm import tqdm \n",
    "\n",
    "# data load \n",
    "(x_train, t_train), (x_test, t_test) = load_mnist(normalize=True, one_hot_label=True)\n",
    "\n",
    "train_loss_list = []\n",
    "train_acc_list = []\n",
    "test_acc_list = []\n",
    "\n",
    "\n",
    "# 하이퍼 파라미터\n",
    "iters_num = 10 # 시간 문제로 반복 횟수를 10으로 줄임\n",
    "train_size = x_train.shape[0]\n",
    "batch_size = 100 # mini batch\n",
    "learning_rate = 0.1\n",
    "\n",
    "# 모델 선언\n",
    "network = TwoLayerNet(input_size=784, hidden_size=50, output_size=10)\n",
    "\n",
    "# 1 epoch 반복 수\n",
    "iter_per_epoch = max(train_size/batch_size, 1)\n",
    "\n",
    "for i in tqdm(range(iters_num)):\n",
    "    # mini batch 샘플 추출 \n",
    "    batch_mask = np.random.choice(train_size, batch_size)\n",
    "    x_batch = x_train[batch_mask]\n",
    "    t_batch = t_train[batch_mask]\n",
    "    \n",
    "    # 기울기 계산\n",
    "    grad = network.numerical_gradient(x_batch, t_batch)\n",
    "\n",
    "    # 매개변수 갱신\n",
    "    for key in ('W1', 'b1', 'W2', 'b2'):\n",
    "        network.params[key] -= learning_rate * grad[key]\n",
    "\n",
    "    # 학습 경과 기록\n",
    "    loss = network.loss(x_batch, t_batch)\n",
    "    train_loss_list.append(loss)\n",
    "    \n",
    "    # 1 epoch 당 정확도 계산\n",
    "    if i % iter_per_epoch == 0: # 전체 반복이 돌아서 1 epoch 돌면 실행\n",
    "        train_acc = network.accuracy(x_train, t_train)\n",
    "        test_acc = network.accuracy(x_test, t_test)\n",
    "        train_acc_list.append(train_acc)\n",
    "        test_acc_list.append(test_acc)\n",
    "        print('train acc, test acc | ' + str(train_acc) + ', ' + str(test_acc))"
   ]
  },
  {
   "cell_type": "markdown",
   "id": "3cbe9e78",
   "metadata": {},
   "source": [
    "너무 오래 걸려서 iter 수 10으로 줄여버림"
   ]
  }
 ],
 "metadata": {
  "kernelspec": {
   "display_name": "Python 3 (ipykernel)",
   "language": "python",
   "name": "python3"
  },
  "language_info": {
   "codemirror_mode": {
    "name": "ipython",
    "version": 3
   },
   "file_extension": ".py",
   "mimetype": "text/x-python",
   "name": "python",
   "nbconvert_exporter": "python",
   "pygments_lexer": "ipython3",
   "version": "3.9.13"
  }
 },
 "nbformat": 4,
 "nbformat_minor": 5
}
